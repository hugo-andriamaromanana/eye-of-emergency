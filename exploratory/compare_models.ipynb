{
 "cells": [
  {
   "cell_type": "code",
   "execution_count": 2,
   "metadata": {},
   "outputs": [
    {
     "name": "stdout",
     "output_type": "stream",
     "text": [
      "Index(['has_url', 'target', 'id', 'aa', 'aaaa', 'aaaaaaallll', 'aaaaaand',\n",
      "       'aaarrrgghhh', 'aaceorg', 'aaemiddleaged',\n",
      "       ...\n",
      "       'zonewolf', 'zoom', 'zotar', 'zouma', 'zourryart', 'zrnf', 'zumiez',\n",
      "       'zurich', 'zxathetis', 'zzzz'],\n",
      "      dtype='object', length=20271)\n"
     ]
    },
    {
     "name": "stderr",
     "output_type": "stream",
     "text": [
      "/home/hugo.andriamaromanana/Documents/personal_projects/eye-of-emergency/exploratory/scripts/compare_models.py:52: SettingWithCopyWarning: \n",
      "A value is trying to be set on a copy of a slice from a DataFrame\n",
      "\n",
      "See the caveats in the documentation: https://pandas.pydata.org/pandas-docs/stable/user_guide/indexing.html#returning-a-view-versus-a-copy\n",
      "  PREDICT.drop(columns=[\"target_null\"], inplace= True)\n",
      "/home/hugo.andriamaromanana/Documents/personal_projects/eye-of-emergency/.venv/lib/python3.10/site-packages/sklearn/utils/validation.py:1339: DataConversionWarning: A column-vector y was passed when a 1d array was expected. Please change the shape of y to (n_samples, ), for example using ravel().\n",
      "  y = column_or_1d(y, warn=True)\n",
      "/home/hugo.andriamaromanana/Documents/personal_projects/eye-of-emergency/.venv/lib/python3.10/site-packages/sklearn/linear_model/_logistic.py:469: ConvergenceWarning: lbfgs failed to converge (status=1):\n",
      "STOP: TOTAL NO. of ITERATIONS REACHED LIMIT.\n",
      "\n",
      "Increase the number of iterations (max_iter) or scale the data as shown in:\n",
      "    https://scikit-learn.org/stable/modules/preprocessing.html\n",
      "Please also refer to the documentation for alternative solver options:\n",
      "    https://scikit-learn.org/stable/modules/linear_model.html#logistic-regression\n",
      "  n_iter_i = _check_optimize_result(\n",
      "/home/hugo.andriamaromanana/Documents/personal_projects/eye-of-emergency/.venv/lib/python3.10/site-packages/sklearn/base.py:1473: DataConversionWarning: A column-vector y was passed when a 1d array was expected. Please change the shape of y to (n_samples,), for example using ravel().\n",
      "  return fit_method(estimator, *args, **kwargs)\n",
      "/home/hugo.andriamaromanana/Documents/personal_projects/eye-of-emergency/.venv/lib/python3.10/site-packages/sklearn/utils/validation.py:1339: DataConversionWarning: A column-vector y was passed when a 1d array was expected. Please change the shape of y to (n_samples, ), for example using ravel().\n",
      "  y = column_or_1d(y, warn=True)\n"
     ]
    },
    {
     "name": "stdout",
     "output_type": "stream",
     "text": [
      "Failed to use 5 due to 'DataFrame' object has no attribute 'dtype'\n",
      "                    Model  Accuracy\n",
      "0     LOGISTIC_REGRESSION  0.791156\n",
      "1           DECISION_TREE  0.737741\n",
      "2           RANDOM_FOREST  0.785026\n",
      "3  SUPPORT_VECTOR_MACHINE  0.577058\n"
     ]
    }
   ],
   "source": [
    "from pathlib import Path\n",
    "\n",
    "from scripts.compare_models import compare_models_on_csv\n",
    "\n",
    "\n",
    "TEST_DATASET_PATH = Path(\"../data/train/test_tweets.csv\")\n",
    "vec = compare_models_on_csv(TEST_DATASET_PATH)"
   ]
  }
 ],
 "metadata": {
  "kernelspec": {
   "display_name": ".venv",
   "language": "python",
   "name": "python3"
  },
  "language_info": {
   "codemirror_mode": {
    "name": "ipython",
    "version": 3
   },
   "file_extension": ".py",
   "mimetype": "text/x-python",
   "name": "python",
   "nbconvert_exporter": "python",
   "pygments_lexer": "ipython3",
   "version": "3.10.12"
  },
  "orig_nbformat": 4
 },
 "nbformat": 4,
 "nbformat_minor": 2
}
