{
 "cells": [
  {
   "cell_type": "code",
   "execution_count": 1,
   "metadata": {},
   "outputs": [
    {
     "name": "stderr",
     "output_type": "stream",
     "text": [
      "/home/hugo.andriamaromanana/Documents/personal_projects/eye-of-emergency/exploratory/scripts/compare_models.py:27: SettingWithCopyWarning: \n",
      "A value is trying to be set on a copy of a slice from a DataFrame\n",
      "\n",
      "See the caveats in the documentation: https://pandas.pydata.org/pandas-docs/stable/user_guide/indexing.html#returning-a-view-versus-a-copy\n",
      "  PREDICT.drop(columns=[\"target_null\"], inplace=True)\n",
      "/home/hugo.andriamaromanana/Documents/personal_projects/eye-of-emergency/.venv/lib/python3.10/site-packages/sklearn/utils/validation.py:1339: DataConversionWarning: A column-vector y was passed when a 1d array was expected. Please change the shape of y to (n_samples, ), for example using ravel().\n",
      "  y = column_or_1d(y, warn=True)\n",
      "/home/hugo.andriamaromanana/Documents/personal_projects/eye-of-emergency/.venv/lib/python3.10/site-packages/sklearn/linear_model/_logistic.py:469: ConvergenceWarning: lbfgs failed to converge (status=1):\n",
      "STOP: TOTAL NO. of ITERATIONS REACHED LIMIT.\n",
      "\n",
      "Increase the number of iterations (max_iter) or scale the data as shown in:\n",
      "    https://scikit-learn.org/stable/modules/preprocessing.html\n",
      "Please also refer to the documentation for alternative solver options:\n",
      "    https://scikit-learn.org/stable/modules/linear_model.html#logistic-regression\n",
      "  n_iter_i = _check_optimize_result(\n",
      "/home/hugo.andriamaromanana/Documents/personal_projects/eye-of-emergency/.venv/lib/python3.10/site-packages/sklearn/base.py:1473: DataConversionWarning: A column-vector y was passed when a 1d array was expected. Please change the shape of y to (n_samples,), for example using ravel().\n",
      "  return fit_method(estimator, *args, **kwargs)\n",
      "/home/hugo.andriamaromanana/Documents/personal_projects/eye-of-emergency/.venv/lib/python3.10/site-packages/sklearn/utils/validation.py:1339: DataConversionWarning: A column-vector y was passed when a 1d array was expected. Please change the shape of y to (n_samples, ), for example using ravel().\n",
      "  y = column_or_1d(y, warn=True)\n",
      "/home/hugo.andriamaromanana/Documents/personal_projects/eye-of-emergency/.venv/lib/python3.10/site-packages/sklearn/metrics/_classification.py:1531: UndefinedMetricWarning: Precision is ill-defined and being set to 0.0 due to no predicted samples. Use `zero_division` parameter to control this behavior.\n",
      "  _warn_prf(average, modifier, f\"{metric.capitalize()} is\", len(result))\n"
     ]
    },
    {
     "name": "stdout",
     "output_type": "stream",
     "text": [
      "Failed to use 5 due to 'DataFrame' object has no attribute 'dtype'\n"
     ]
    }
   ],
   "source": [
    "from pathlib import Path\n",
    "\n",
    "from scripts.compare_models import compare_models_on_csv\n",
    "\n",
    "\n",
    "TEST_DATASET_PATH = Path(\"../data/train/test_tweets.csv\")\n",
    "compare = compare_models_on_csv(TEST_DATASET_PATH)"
   ]
  },
  {
   "cell_type": "code",
   "execution_count": 2,
   "metadata": {},
   "outputs": [
    {
     "data": {
      "text/html": [
       "<div>\n",
       "<style scoped>\n",
       "    .dataframe tbody tr th:only-of-type {\n",
       "        vertical-align: middle;\n",
       "    }\n",
       "\n",
       "    .dataframe tbody tr th {\n",
       "        vertical-align: top;\n",
       "    }\n",
       "\n",
       "    .dataframe thead th {\n",
       "        text-align: right;\n",
       "    }\n",
       "</style>\n",
       "<table border=\"1\" class=\"dataframe\">\n",
       "  <thead>\n",
       "    <tr style=\"text-align: right;\">\n",
       "      <th></th>\n",
       "      <th>Accuracy</th>\n",
       "      <th>F1 Score</th>\n",
       "      <th>Recall</th>\n",
       "      <th>Precision</th>\n",
       "      <th>Confusion Matrix</th>\n",
       "    </tr>\n",
       "  </thead>\n",
       "  <tbody>\n",
       "    <tr>\n",
       "      <th>LOGISTIC_REGRESSION</th>\n",
       "      <td>0.791156</td>\n",
       "      <td>0.719577</td>\n",
       "      <td>0.633540</td>\n",
       "      <td>0.832653</td>\n",
       "      <td>[[1195, 123], [354, 612]]</td>\n",
       "    </tr>\n",
       "    <tr>\n",
       "      <th>DECISION_TREE</th>\n",
       "      <td>0.739930</td>\n",
       "      <td>0.676471</td>\n",
       "      <td>0.642857</td>\n",
       "      <td>0.713793</td>\n",
       "      <td>[[1069, 249], [345, 621]]</td>\n",
       "    </tr>\n",
       "    <tr>\n",
       "      <th>RANDOM_FOREST</th>\n",
       "      <td>0.786340</td>\n",
       "      <td>0.703163</td>\n",
       "      <td>0.598344</td>\n",
       "      <td>0.852507</td>\n",
       "      <td>[[1218, 100], [388, 578]]</td>\n",
       "    </tr>\n",
       "    <tr>\n",
       "      <th>SUPPORT_VECTOR_MACHINE</th>\n",
       "      <td>0.577058</td>\n",
       "      <td>0.000000</td>\n",
       "      <td>0.000000</td>\n",
       "      <td>0.000000</td>\n",
       "      <td>[[1318, 0], [966, 0]]</td>\n",
       "    </tr>\n",
       "  </tbody>\n",
       "</table>\n",
       "</div>"
      ],
      "text/plain": [
       "                        Accuracy  F1 Score    Recall  Precision  \\\n",
       "LOGISTIC_REGRESSION     0.791156  0.719577  0.633540   0.832653   \n",
       "DECISION_TREE           0.739930  0.676471  0.642857   0.713793   \n",
       "RANDOM_FOREST           0.786340  0.703163  0.598344   0.852507   \n",
       "SUPPORT_VECTOR_MACHINE  0.577058  0.000000  0.000000   0.000000   \n",
       "\n",
       "                                 Confusion Matrix  \n",
       "LOGISTIC_REGRESSION     [[1195, 123], [354, 612]]  \n",
       "DECISION_TREE           [[1069, 249], [345, 621]]  \n",
       "RANDOM_FOREST           [[1218, 100], [388, 578]]  \n",
       "SUPPORT_VECTOR_MACHINE      [[1318, 0], [966, 0]]  "
      ]
     },
     "execution_count": 2,
     "metadata": {},
     "output_type": "execute_result"
    }
   ],
   "source": [
    "compare.head()"
   ]
  },
  {
   "cell_type": "code",
   "execution_count": 3,
   "metadata": {},
   "outputs": [],
   "source": [
    "compare.to_csv(\"results.csv\")"
   ]
  }
 ],
 "metadata": {
  "kernelspec": {
   "display_name": ".venv",
   "language": "python",
   "name": "python3"
  },
  "language_info": {
   "codemirror_mode": {
    "name": "ipython",
    "version": 3
   },
   "file_extension": ".py",
   "mimetype": "text/x-python",
   "name": "python",
   "nbconvert_exporter": "python",
   "pygments_lexer": "ipython3",
   "version": "3.10.12"
  },
  "orig_nbformat": 4
 },
 "nbformat": 4,
 "nbformat_minor": 2
}
